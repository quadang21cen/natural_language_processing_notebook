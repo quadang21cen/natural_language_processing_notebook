{
  "cells": [
    {
      "cell_type": "code",
      "execution_count": null,
      "metadata": {
        "colab": {
          "base_uri": "https://localhost:8080/"
        },
        "id": "qvSdj-GYTyWE",
        "outputId": "6cce4a17-a487-4428-d3ba-4d23e8af2b05"
      },
      "outputs": [],
      "source": [
        "!pip install -q --upgrade google-generativeai langchain-google-genai python-dotenv\n",
        "!pip install sentence-transformers\n",
        "!pip install langchain\n",
        "!pip install pypdf\n",
        "!pip install chromadb\n",
        "!pip install -U langchain-community\n",
        "!pip install --upgrade chromadb"
      ]
    },
    {
      "cell_type": "code",
      "execution_count": null,
      "metadata": {
        "id": "SMz1pqhhSnd3"
      },
      "outputs": [],
      "source": [
        "import google.generativeai as genai\n",
        "from google.colab import userdata\n",
        "from dotenv import load_dotenv\n",
        "from IPython.display import display\n",
        "from IPython.display import Markdown\n",
        "import textwrap"
      ]
    },
    {
      "cell_type": "code",
      "execution_count": null,
      "metadata": {
        "id": "XeSrAv58UuHC"
      },
      "outputs": [],
      "source": [
        "def to_markdown(text):\n",
        "  text = text.replace('•','*')\n",
        "  return Markdown(textwrap.indent(text, '>', predicate=lambda _: True))"
      ]
    },
    {
      "cell_type": "code",
      "execution_count": null,
      "metadata": {
        "colab": {
          "base_uri": "https://localhost:8080/",
          "height": 277
        },
        "collapsed": true,
        "id": "0XeoL6loT6aJ",
        "outputId": "fa04bd10-5e16-4be3-aaa7-e0e930411fd0"
      },
      "outputs": [],
      "source": [
        "# A simple request to Google Gemini by Langchain\n",
        "from langchain_google_genai import ChatGoogleGenerativeAI\n",
        "GOOGLE_API_KEY = \"___\"\n",
        "llm = ChatGoogleGenerativeAI(model=\"gemini-pro\",google_api_key=GOOGLE_API_KEY)\n",
        "result = llm.invoke(\"bệnh ung thư là gì?\")\n",
        "to_markdown(result.content)"
      ]
    },
    {
      "cell_type": "code",
      "execution_count": null,
      "metadata": {
        "id": "m9KPSC4iVv0u"
      },
      "outputs": [],
      "source": [
        "from langchain import PromptTemplate\n",
        "from langchain.chains.question_answering import load_qa_chain\n",
        "from langchain.document_loaders import PyPDFDirectoryLoader\n",
        "from langchain.text_splitter import RecursiveCharacterTextSplitter\n",
        "from langchain.vectorstores import Chroma"
      ]
    },
    {
      "cell_type": "code",
      "execution_count": null,
      "metadata": {
        "colab": {
          "base_uri": "https://localhost:8080/"
        },
        "id": "4ZxCNvVuW_52",
        "outputId": "209aca27-ed5f-4c59-bc0e-f5ff06ca49a6"
      },
      "outputs": [],
      "source": [
        "!mkdir pdfs\n",
        "# !gdown /content/mot so cay thuoc viet nam theo nhom benh.pdf\n",
        "# !gdown 1vILwiv6nS2wI3chxNabMgry3qnV67TxM -O pdfs/rachelgreecv.pdf"
      ]
    },
    {
      "cell_type": "code",
      "execution_count": null,
      "metadata": {
        "id": "6fcjGPBPXEG6"
      },
      "outputs": [],
      "source": [
        "loader = PyPDFDirectoryLoader(\"/content/drive/MyDrive/DataSet/__\")\n",
        "data = loader.load_and_split()"
      ]
    },
    {
      "cell_type": "code",
      "execution_count": null,
      "metadata": {
        "id": "J-sVpmS-XVR_"
      },
      "outputs": [],
      "source": [
        "context = \"\\n\".join(str(p.page_content) for p in data)"
      ]
    },
    {
      "cell_type": "code",
      "execution_count": null,
      "metadata": {
        "colab": {
          "base_uri": "https://localhost:8080/"
        },
        "id": "FSjgJAv6XZ_9",
        "outputId": "b5e5f8c6-bc5c-448b-bd66-8ffb10aee4e0"
      },
      "outputs": [],
      "source": [
        "text_splitter = RecursiveCharacterTextSplitter(chunk_size=1000, chunk_overlap=200)\n",
        "context = \"\\n\\n\".join(str(p.page_content) for p in data)\n",
        "texts = text_splitter.split_text(context)\n",
        "print(len(texts))"
      ]
    },
    {
      "cell_type": "code",
      "execution_count": null,
      "metadata": {
        "colab": {
          "base_uri": "https://localhost:8080/"
        },
        "id": "kKukjWAsQX5F",
        "outputId": "9a63a4a9-e7f7-4eb1-afde-53dbc6d56da7"
      },
      "outputs": [],
      "source": [
        "# Sử dụng mô hình embedding\n",
        "from langchain.embeddings import HuggingFaceEmbeddings, OpenAIEmbeddings\n",
        "MODEL_NAME = \"keepitreal/vietnamese-sbert\"\n",
        "hf_embeddings = HuggingFaceEmbeddings(model_name=MODEL_NAME)"
      ]
    },
    {
      "cell_type": "code",
      "execution_count": null,
      "metadata": {
        "id": "6bVuWHqQcccs"
      },
      "outputs": [],
      "source": [
        "vie_db = Chroma.from_texts(texts, hf_embeddings, persist_directory=\"db\")"
      ]
    },
    {
      "cell_type": "code",
      "execution_count": null,
      "metadata": {
        "colab": {
          "base_uri": "https://localhost:8080/"
        },
        "id": "40Ifr37udnse",
        "outputId": "879d811e-0b68-4174-96d1-1ce024e03dbb"
      },
      "outputs": [],
      "source": [
        "question = \"Công dụng của cây đinh lăng\"\n",
        "docs = vie_db.similarity_search(question, k =2)\n",
        "\n",
        "for doc in docs:\n",
        "  print(\"---------------\")\n",
        "  print(doc.page_content)"
      ]
    },
    {
      "cell_type": "code",
      "execution_count": null,
      "metadata": {
        "colab": {
          "base_uri": "https://localhost:8080/"
        },
        "id": "wzihY0oxjwl2",
        "outputId": "3d409752-948c-4e05-888c-a7e396d88e15"
      },
      "outputs": [],
      "source": [
        "type(docs)"
      ]
    },
    {
      "cell_type": "code",
      "execution_count": null,
      "metadata": {
        "id": "JjjDD13SWhBi"
      },
      "outputs": [],
      "source": [
        "prompt_template = \"\"\"\n",
        "\n",
        "Trả lời câu hỏi một cách cụ thể nhất có thể từ ngữ cảnh được cung cấp, đảm bảo cung cấp tất cả các chi tiết,\n",
        "nếu câu trả lời không có trong ngữ cảnh đã cung cấp, chỉ cần nói \"câu trả lời không có sẵn trong ngữ cảnh\", đừng cung cấp câu trả lời sai.\\n\\n\n",
        "ngữ cảnh:\\n {context}?\\n\n",
        "câu hỏi: \\n {question}\\n\n",
        "\n",
        "câu trả lời:\n",
        "\n",
        "\"\"\"\n",
        "\n",
        "prompt = PromptTemplate(template = prompt_template, input_variables = [\"context\", \"question\"])"
      ]
    },
    {
      "cell_type": "code",
      "execution_count": null,
      "metadata": {
        "id": "5UNI27HQWkgk"
      },
      "outputs": [],
      "source": [
        "from langchain_google_genai import ChatGoogleGenerativeAI\n",
        "model = ChatGoogleGenerativeAI(model=\"gemini-pro\",google_api_key = GOOGLE_API_KEY,\n",
        "                             temperature=0.3)\n"
      ]
    },
    {
      "cell_type": "code",
      "execution_count": null,
      "metadata": {
        "id": "plqBZE88WoJg"
      },
      "outputs": [],
      "source": [
        "chain = load_qa_chain(model, chain_type=\"stuff\", prompt=prompt)"
      ]
    },
    {
      "cell_type": "code",
      "execution_count": null,
      "metadata": {
        "colab": {
          "base_uri": "https://localhost:8080/"
        },
        "id": "NaCsWm_8Wq2w",
        "outputId": "3dc903ab-c4a1-453c-ec7b-f95757712b34"
      },
      "outputs": [],
      "source": [
        "question = \"Công dụng của cây đinh lăng ?\"\n",
        "response = chain(\n",
        "    {\"input_documents\":docs, \"question\": question}\n",
        "    , return_only_outputs=True)\n",
        "\n",
        "\n",
        "print(response)"
      ]
    },
    {
      "cell_type": "markdown",
      "metadata": {
        "id": "imoumz41Wnmj"
      },
      "source": []
    },
    {
      "cell_type": "code",
      "execution_count": null,
      "metadata": {
        "colab": {
          "base_uri": "https://localhost:8080/"
        },
        "id": "NgHeuRteTWfU",
        "outputId": "03629549-21ff-46ec-bb83-dac5a1183506"
      },
      "outputs": [],
      "source": [
        "# sentence embeding\n",
        "from sentence_transformers import SentenceTransformer\n",
        "sentences = [\"Cô giáo đang ăn kem\", \"Chị gái đang thử món thịt dê\"]\n",
        "vie_model = SentenceTransformer('keepitreal/vietnamese-sbert')\n",
        "vie_embeddings = vie_model.encode(sentences)\n",
        "print(vie_embeddings)"
      ]
    }
  ],
  "metadata": {
    "colab": {
      "provenance": []
    },
    "kernelspec": {
      "display_name": "Python 3",
      "name": "python3"
    },
    "language_info": {
      "name": "python"
    }
  },
  "nbformat": 4,
  "nbformat_minor": 0
}
